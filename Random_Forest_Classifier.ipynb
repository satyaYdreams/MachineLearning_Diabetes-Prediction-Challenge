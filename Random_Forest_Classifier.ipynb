{
 "cells": [
  {
   "cell_type": "code",
   "execution_count": 1,
   "id": "0352b8c2",
   "metadata": {},
   "outputs": [],
   "source": [
    "import pandas as pd\n",
    "df=pd.read_csv(r'C:\\Users\\91929\\OneDrive\\Desktop\\Diaba\\train_dataset.csv')"
   ]
  },
  {
   "cell_type": "code",
   "execution_count": 2,
   "id": "180c6f4f",
   "metadata": {},
   "outputs": [],
   "source": [
    "# Remove duplicate rows\n",
    "df = df.drop_duplicates()"
   ]
  },
  {
   "cell_type": "code",
   "execution_count": 3,
   "id": "dc876455",
   "metadata": {},
   "outputs": [
    {
     "name": "stdout",
     "output_type": "stream",
     "text": [
      "<class 'pandas.core.frame.DataFrame'>\n",
      "Int64Index: 49671 entries, 0 to 51016\n",
      "Data columns (total 22 columns):\n",
      " #   Column                Non-Null Count  Dtype  \n",
      "---  ------                --------------  -----  \n",
      " 0   Diabetes_012          49671 non-null  float64\n",
      " 1   HighBP                49671 non-null  object \n",
      " 2   HighChol              49671 non-null  object \n",
      " 3   CholCheck             49671 non-null  object \n",
      " 4   BMI                   48874 non-null  float64\n",
      " 5   Smoker                49671 non-null  object \n",
      " 6   Stroke                49671 non-null  object \n",
      " 7   HeartDiseaseorAttack  49671 non-null  object \n",
      " 8   PhysActivity          49558 non-null  object \n",
      " 9   Fruits                49671 non-null  object \n",
      " 10  Veggies               49553 non-null  object \n",
      " 11  HvyAlcoholConsump     49671 non-null  object \n",
      " 12  AnyHealthcare         49671 non-null  object \n",
      " 13  NoDocbcCost           49671 non-null  object \n",
      " 14  GenHlth               49671 non-null  float64\n",
      " 15  MentHlth              49671 non-null  float64\n",
      " 16  PhysHlth              49671 non-null  float64\n",
      " 17  DiffWalk              49671 non-null  object \n",
      " 18  Sex                   49671 non-null  object \n",
      " 19  Age                   49123 non-null  float64\n",
      " 20  Education             49671 non-null  float64\n",
      " 21  Income                49105 non-null  float64\n",
      "dtypes: float64(8), object(14)\n",
      "memory usage: 8.7+ MB\n"
     ]
    }
   ],
   "source": [
    "df.info()"
   ]
  },
  {
   "cell_type": "code",
   "execution_count": 4,
   "id": "5e635470",
   "metadata": {},
   "outputs": [
    {
     "name": "stdout",
     "output_type": "stream",
     "text": [
      "Number of outliers detected: Diabetes_012       0\n",
      "BMI                0\n",
      "GenHlth            0\n",
      "MentHlth        2865\n",
      "PhysHlth           0\n",
      "Age                0\n",
      "Education         34\n",
      "Income             0\n",
      "dtype: int64\n"
     ]
    }
   ],
   "source": [
    "from scipy import stats\n",
    "\n",
    "# Calculate z-scores for numerical columns\n",
    "numerical_cols = df.select_dtypes(include=['float64', 'int64'])\n",
    "z_scores = stats.zscore(numerical_cols)\n",
    "\n",
    "# Find and count outliers (values with z-score greater than 3 or less than -3)\n",
    "outliers_count = (abs(z_scores) > 3).sum()\n",
    "\n",
    "print(f\"Number of outliers detected: {outliers_count}\")\n"
   ]
  },
  {
   "cell_type": "code",
   "execution_count": 5,
   "id": "721f8e5d",
   "metadata": {},
   "outputs": [],
   "source": [
    "# Calculate the median of the 'BMI' column\n",
    "bmi_median = df['BMI'].median()\n",
    "\n",
    "# Replace null values in 'BMI' column with the calculated median\n",
    "df['BMI'].fillna(bmi_median, inplace=True)\n",
    "\n",
    "# Calculate the median of the 'Income' column\n",
    "income_median = df['Income'].median()\n",
    "\n",
    "# Replace null values in 'Income' column with the calculated median\n",
    "df['Income'].fillna(income_median, inplace=True)"
   ]
  },
  {
   "cell_type": "code",
   "execution_count": 6,
   "id": "eabe1c1a",
   "metadata": {},
   "outputs": [],
   "source": [
    "phys_activity_mode = df['PhysActivity'].mode()[0]  # Calculate mode\n",
    "df['PhysActivity'].fillna(phys_activity_mode, inplace=True)  # Fill missing values\n",
    "\n",
    "# Replace missing values in 'Veggies' with the mode\n",
    "veggies_mode = df['Veggies'].mode()[0]  # Calculate mode\n",
    "df['Veggies'].fillna(veggies_mode, inplace=True)  # Fill missing values\n",
    "\n",
    "# Replace missing values in 'Age' with the mode (assuming 'Age' is represented as categories)\n",
    "age_mode = df['Age'].mode()[0]  # Calculate mode\n",
    "df['Age'].fillna(age_mode, inplace=True)  # Fill missing values"
   ]
  },
  {
   "cell_type": "code",
   "execution_count": 7,
   "id": "245482b7",
   "metadata": {},
   "outputs": [],
   "source": [
    "columns_to_replace = ['HighBP', 'HighChol', 'CholCheck','Smoker','Stroke','HeartDiseaseorAttack',\n",
    "                      'PhysActivity','Fruits','Veggies','HvyAlcoholConsump','AnyHealthcare','NoDocbcCost','DiffWalk']\n",
    "df[columns_to_replace] = df[columns_to_replace].replace({'Yes': 1, 'No': 0})"
   ]
  },
  {
   "cell_type": "code",
   "execution_count": 8,
   "id": "bb8e6aa0",
   "metadata": {},
   "outputs": [],
   "source": [
    "df['Sex'] = df['Sex'].replace({'Male': 1, 'Female': 0})"
   ]
  },
  {
   "cell_type": "code",
   "execution_count": 9,
   "id": "cd13e0d9",
   "metadata": {},
   "outputs": [],
   "source": [
    "from sklearn.preprocessing import MinMaxScaler\n",
    "import pandas as pd\n",
    "\n",
    "\n",
    "columns_to_scale = ['BMI', 'MentHlth', 'PhysHlth', 'Income']\n",
    "\n",
    "scaler = MinMaxScaler()  # Initialize MinMaxScaler\n",
    "df[columns_to_scale] = scaler.fit_transform(df[columns_to_scale])"
   ]
  },
  {
   "cell_type": "code",
   "execution_count": 10,
   "id": "a8da56a3",
   "metadata": {},
   "outputs": [
    {
     "data": {
      "text/html": [
       "<div>\n",
       "<style scoped>\n",
       "    .dataframe tbody tr th:only-of-type {\n",
       "        vertical-align: middle;\n",
       "    }\n",
       "\n",
       "    .dataframe tbody tr th {\n",
       "        vertical-align: top;\n",
       "    }\n",
       "\n",
       "    .dataframe thead th {\n",
       "        text-align: right;\n",
       "    }\n",
       "</style>\n",
       "<table border=\"1\" class=\"dataframe\">\n",
       "  <thead>\n",
       "    <tr style=\"text-align: right;\">\n",
       "      <th></th>\n",
       "      <th>Diabetes_012</th>\n",
       "      <th>HighBP</th>\n",
       "      <th>HighChol</th>\n",
       "      <th>CholCheck</th>\n",
       "      <th>BMI</th>\n",
       "      <th>Smoker</th>\n",
       "      <th>Stroke</th>\n",
       "      <th>HeartDiseaseorAttack</th>\n",
       "      <th>PhysActivity</th>\n",
       "      <th>Fruits</th>\n",
       "      <th>...</th>\n",
       "      <th>AnyHealthcare</th>\n",
       "      <th>NoDocbcCost</th>\n",
       "      <th>GenHlth</th>\n",
       "      <th>MentHlth</th>\n",
       "      <th>PhysHlth</th>\n",
       "      <th>DiffWalk</th>\n",
       "      <th>Sex</th>\n",
       "      <th>Age</th>\n",
       "      <th>Education</th>\n",
       "      <th>Income</th>\n",
       "    </tr>\n",
       "  </thead>\n",
       "  <tbody>\n",
       "    <tr>\n",
       "      <th>count</th>\n",
       "      <td>49671.000000</td>\n",
       "      <td>49671.000000</td>\n",
       "      <td>49671.000000</td>\n",
       "      <td>49671.000000</td>\n",
       "      <td>49671.000000</td>\n",
       "      <td>49671.000000</td>\n",
       "      <td>49671.000000</td>\n",
       "      <td>49671.000000</td>\n",
       "      <td>49671.000000</td>\n",
       "      <td>49671.000000</td>\n",
       "      <td>...</td>\n",
       "      <td>49671.00000</td>\n",
       "      <td>49671.000000</td>\n",
       "      <td>49671.000000</td>\n",
       "      <td>49671.000000</td>\n",
       "      <td>49671.000000</td>\n",
       "      <td>49671.000000</td>\n",
       "      <td>49671.000000</td>\n",
       "      <td>49671.000000</td>\n",
       "      <td>49671.000000</td>\n",
       "      <td>49671.000000</td>\n",
       "    </tr>\n",
       "    <tr>\n",
       "      <th>mean</th>\n",
       "      <td>0.589942</td>\n",
       "      <td>0.493829</td>\n",
       "      <td>0.480341</td>\n",
       "      <td>0.967104</td>\n",
       "      <td>0.198713</td>\n",
       "      <td>0.464376</td>\n",
       "      <td>0.049043</td>\n",
       "      <td>0.117473</td>\n",
       "      <td>0.725997</td>\n",
       "      <td>0.617040</td>\n",
       "      <td>...</td>\n",
       "      <td>0.95142</td>\n",
       "      <td>0.092106</td>\n",
       "      <td>2.682149</td>\n",
       "      <td>0.118385</td>\n",
       "      <td>0.167732</td>\n",
       "      <td>0.210928</td>\n",
       "      <td>0.446276</td>\n",
       "      <td>8.343239</td>\n",
       "      <td>4.967708</td>\n",
       "      <td>0.693702</td>\n",
       "    </tr>\n",
       "    <tr>\n",
       "      <th>std</th>\n",
       "      <td>0.859461</td>\n",
       "      <td>0.499967</td>\n",
       "      <td>0.499618</td>\n",
       "      <td>0.178367</td>\n",
       "      <td>0.078711</td>\n",
       "      <td>0.498734</td>\n",
       "      <td>0.215959</td>\n",
       "      <td>0.321986</td>\n",
       "      <td>0.446015</td>\n",
       "      <td>0.486114</td>\n",
       "      <td>...</td>\n",
       "      <td>0.21499</td>\n",
       "      <td>0.289179</td>\n",
       "      <td>1.085046</td>\n",
       "      <td>0.261813</td>\n",
       "      <td>0.313850</td>\n",
       "      <td>0.407971</td>\n",
       "      <td>0.497110</td>\n",
       "      <td>2.981978</td>\n",
       "      <td>1.011472</td>\n",
       "      <td>0.302078</td>\n",
       "    </tr>\n",
       "    <tr>\n",
       "      <th>min</th>\n",
       "      <td>0.000000</td>\n",
       "      <td>0.000000</td>\n",
       "      <td>0.000000</td>\n",
       "      <td>0.000000</td>\n",
       "      <td>0.000000</td>\n",
       "      <td>0.000000</td>\n",
       "      <td>0.000000</td>\n",
       "      <td>0.000000</td>\n",
       "      <td>0.000000</td>\n",
       "      <td>0.000000</td>\n",
       "      <td>...</td>\n",
       "      <td>0.00000</td>\n",
       "      <td>0.000000</td>\n",
       "      <td>1.000000</td>\n",
       "      <td>0.000000</td>\n",
       "      <td>0.000000</td>\n",
       "      <td>0.000000</td>\n",
       "      <td>0.000000</td>\n",
       "      <td>1.000000</td>\n",
       "      <td>1.000000</td>\n",
       "      <td>0.000000</td>\n",
       "    </tr>\n",
       "    <tr>\n",
       "      <th>25%</th>\n",
       "      <td>0.000000</td>\n",
       "      <td>0.000000</td>\n",
       "      <td>0.000000</td>\n",
       "      <td>1.000000</td>\n",
       "      <td>0.151163</td>\n",
       "      <td>0.000000</td>\n",
       "      <td>0.000000</td>\n",
       "      <td>0.000000</td>\n",
       "      <td>0.000000</td>\n",
       "      <td>0.000000</td>\n",
       "      <td>...</td>\n",
       "      <td>1.00000</td>\n",
       "      <td>0.000000</td>\n",
       "      <td>2.000000</td>\n",
       "      <td>0.000000</td>\n",
       "      <td>0.000000</td>\n",
       "      <td>0.000000</td>\n",
       "      <td>0.000000</td>\n",
       "      <td>6.000000</td>\n",
       "      <td>4.000000</td>\n",
       "      <td>0.428571</td>\n",
       "    </tr>\n",
       "    <tr>\n",
       "      <th>50%</th>\n",
       "      <td>0.000000</td>\n",
       "      <td>0.000000</td>\n",
       "      <td>0.000000</td>\n",
       "      <td>1.000000</td>\n",
       "      <td>0.186047</td>\n",
       "      <td>0.000000</td>\n",
       "      <td>0.000000</td>\n",
       "      <td>0.000000</td>\n",
       "      <td>1.000000</td>\n",
       "      <td>1.000000</td>\n",
       "      <td>...</td>\n",
       "      <td>1.00000</td>\n",
       "      <td>0.000000</td>\n",
       "      <td>3.000000</td>\n",
       "      <td>0.000000</td>\n",
       "      <td>0.000000</td>\n",
       "      <td>0.000000</td>\n",
       "      <td>0.000000</td>\n",
       "      <td>9.000000</td>\n",
       "      <td>5.000000</td>\n",
       "      <td>0.714286</td>\n",
       "    </tr>\n",
       "    <tr>\n",
       "      <th>75%</th>\n",
       "      <td>1.000000</td>\n",
       "      <td>1.000000</td>\n",
       "      <td>1.000000</td>\n",
       "      <td>1.000000</td>\n",
       "      <td>0.232558</td>\n",
       "      <td>1.000000</td>\n",
       "      <td>0.000000</td>\n",
       "      <td>0.000000</td>\n",
       "      <td>1.000000</td>\n",
       "      <td>1.000000</td>\n",
       "      <td>...</td>\n",
       "      <td>1.00000</td>\n",
       "      <td>0.000000</td>\n",
       "      <td>3.000000</td>\n",
       "      <td>0.066667</td>\n",
       "      <td>0.166667</td>\n",
       "      <td>0.000000</td>\n",
       "      <td>1.000000</td>\n",
       "      <td>10.000000</td>\n",
       "      <td>6.000000</td>\n",
       "      <td>1.000000</td>\n",
       "    </tr>\n",
       "    <tr>\n",
       "      <th>max</th>\n",
       "      <td>2.000000</td>\n",
       "      <td>1.000000</td>\n",
       "      <td>1.000000</td>\n",
       "      <td>1.000000</td>\n",
       "      <td>1.000000</td>\n",
       "      <td>1.000000</td>\n",
       "      <td>1.000000</td>\n",
       "      <td>1.000000</td>\n",
       "      <td>1.000000</td>\n",
       "      <td>1.000000</td>\n",
       "      <td>...</td>\n",
       "      <td>1.00000</td>\n",
       "      <td>1.000000</td>\n",
       "      <td>5.000000</td>\n",
       "      <td>1.000000</td>\n",
       "      <td>1.000000</td>\n",
       "      <td>1.000000</td>\n",
       "      <td>1.000000</td>\n",
       "      <td>13.000000</td>\n",
       "      <td>6.000000</td>\n",
       "      <td>1.000000</td>\n",
       "    </tr>\n",
       "  </tbody>\n",
       "</table>\n",
       "<p>8 rows × 22 columns</p>\n",
       "</div>"
      ],
      "text/plain": [
       "       Diabetes_012        HighBP      HighChol     CholCheck           BMI  \\\n",
       "count  49671.000000  49671.000000  49671.000000  49671.000000  49671.000000   \n",
       "mean       0.589942      0.493829      0.480341      0.967104      0.198713   \n",
       "std        0.859461      0.499967      0.499618      0.178367      0.078711   \n",
       "min        0.000000      0.000000      0.000000      0.000000      0.000000   \n",
       "25%        0.000000      0.000000      0.000000      1.000000      0.151163   \n",
       "50%        0.000000      0.000000      0.000000      1.000000      0.186047   \n",
       "75%        1.000000      1.000000      1.000000      1.000000      0.232558   \n",
       "max        2.000000      1.000000      1.000000      1.000000      1.000000   \n",
       "\n",
       "             Smoker        Stroke  HeartDiseaseorAttack  PhysActivity  \\\n",
       "count  49671.000000  49671.000000          49671.000000  49671.000000   \n",
       "mean       0.464376      0.049043              0.117473      0.725997   \n",
       "std        0.498734      0.215959              0.321986      0.446015   \n",
       "min        0.000000      0.000000              0.000000      0.000000   \n",
       "25%        0.000000      0.000000              0.000000      0.000000   \n",
       "50%        0.000000      0.000000              0.000000      1.000000   \n",
       "75%        1.000000      0.000000              0.000000      1.000000   \n",
       "max        1.000000      1.000000              1.000000      1.000000   \n",
       "\n",
       "             Fruits  ...  AnyHealthcare   NoDocbcCost       GenHlth  \\\n",
       "count  49671.000000  ...    49671.00000  49671.000000  49671.000000   \n",
       "mean       0.617040  ...        0.95142      0.092106      2.682149   \n",
       "std        0.486114  ...        0.21499      0.289179      1.085046   \n",
       "min        0.000000  ...        0.00000      0.000000      1.000000   \n",
       "25%        0.000000  ...        1.00000      0.000000      2.000000   \n",
       "50%        1.000000  ...        1.00000      0.000000      3.000000   \n",
       "75%        1.000000  ...        1.00000      0.000000      3.000000   \n",
       "max        1.000000  ...        1.00000      1.000000      5.000000   \n",
       "\n",
       "           MentHlth      PhysHlth      DiffWalk           Sex           Age  \\\n",
       "count  49671.000000  49671.000000  49671.000000  49671.000000  49671.000000   \n",
       "mean       0.118385      0.167732      0.210928      0.446276      8.343239   \n",
       "std        0.261813      0.313850      0.407971      0.497110      2.981978   \n",
       "min        0.000000      0.000000      0.000000      0.000000      1.000000   \n",
       "25%        0.000000      0.000000      0.000000      0.000000      6.000000   \n",
       "50%        0.000000      0.000000      0.000000      0.000000      9.000000   \n",
       "75%        0.066667      0.166667      0.000000      1.000000     10.000000   \n",
       "max        1.000000      1.000000      1.000000      1.000000     13.000000   \n",
       "\n",
       "          Education        Income  \n",
       "count  49671.000000  49671.000000  \n",
       "mean       4.967708      0.693702  \n",
       "std        1.011472      0.302078  \n",
       "min        1.000000      0.000000  \n",
       "25%        4.000000      0.428571  \n",
       "50%        5.000000      0.714286  \n",
       "75%        6.000000      1.000000  \n",
       "max        6.000000      1.000000  \n",
       "\n",
       "[8 rows x 22 columns]"
      ]
     },
     "execution_count": 10,
     "metadata": {},
     "output_type": "execute_result"
    }
   ],
   "source": [
    "df.describe()"
   ]
  },
  {
   "cell_type": "code",
   "execution_count": 11,
   "id": "706de5ea",
   "metadata": {},
   "outputs": [],
   "source": [
    "# X contains features, y contains the target variable\n",
    "df=df.drop('AnyHealthcare',axis=1)\n",
    "X = df.drop('Diabetes_012', axis=1)  # Features\n",
    "y = df['Diabetes_012']  # Target"
   ]
  },
  {
   "cell_type": "code",
   "execution_count": 12,
   "id": "60031412",
   "metadata": {},
   "outputs": [],
   "source": [
    "import pandas as pd\n",
    "import numpy as np\n",
    "import matplotlib.pyplot as plt\n",
    "from sklearn.model_selection import train_test_split\n",
    "from sklearn.metrics import accuracy_score, confusion_matrix, classification_report \n",
    "import seaborn as sns\n",
    "import tensorflow as tf\n",
    "from tensorflow.keras.models import Sequential\n",
    "from tensorflow.keras.layers import Dense\n",
    "from imblearn.over_sampling import RandomOverSampler\n",
    "from sklearn.preprocessing import StandardScaler"
   ]
  },
  {
   "cell_type": "code",
   "execution_count": 13,
   "id": "b3e3bf87",
   "metadata": {},
   "outputs": [
    {
     "data": {
      "text/plain": [
       "<AxesSubplot:xlabel='Diabetes_012', ylabel='count'>"
      ]
     },
     "execution_count": 13,
     "metadata": {},
     "output_type": "execute_result"
    },
    {
     "data": {
      "image/png": "[encoded data removed]",
      "text/plain": [
       "<Figure size 432x288 with 1 Axes>"
      ]
     },
     "metadata": {
      "needs_background": "light"
     },
     "output_type": "display_data"
    }
   ],
   "source": [
    "sns.countplot(data=df,x=y)"
   ]
  },
  {
   "cell_type": "code",
   "execution_count": 14,
   "id": "925c581c",
   "metadata": {},
   "outputs": [],
   "source": [
    "ros = RandomOverSampler(random_state=41)\n",
    "X_ros,y_ros = ros.fit_resample(X,y)"
   ]
  },
  {
   "cell_type": "code",
   "execution_count": 15,
   "id": "5ba0cb02",
   "metadata": {},
   "outputs": [
    {
     "data": {
      "text/plain": [
       "<AxesSubplot:xlabel='Diabetes_012', ylabel='count'>"
      ]
     },
     "execution_count": 15,
     "metadata": {},
     "output_type": "execute_result"
    },
    {
     "data": {
      "image/png": "[encoded data removed]",
      "text/plain": [
       "<Figure size 432x288 with 1 Axes>"
      ]
     },
     "metadata": {
      "needs_background": "light"
     },
     "output_type": "display_data"
    }
   ],
   "source": [
    "sns.countplot(data=df,x=y_ros)"
   ]
  },
  {
   "cell_type": "code",
   "execution_count": null,
   "id": "d811a5e7",
   "metadata": {},
   "outputs": [],
   "source": []
  },
  {
   "cell_type": "code",
   "execution_count": 16,
   "id": "89966064",
   "metadata": {},
   "outputs": [],
   "source": [
    "from sklearn.model_selection import train_test_split\n",
    "from sklearn.linear_model import LogisticRegression\n",
    "from sklearn.metrics import f1_score\n",
    "\n",
    "# Split the dataset into training and testing sets (adjust test_size and random_state as needed)\n",
    "X_train, X_test, y_train, y_test = train_test_split(X_ros, y_ros, test_size=0.1, random_state=0)\n",
    "\n",
    "\n"
   ]
  },
  {
   "cell_type": "code",
   "execution_count": 17,
   "id": "eb514298",
   "metadata": {},
   "outputs": [
    {
     "name": "stdout",
     "output_type": "stream",
     "text": [
      "F1-score (Random Forest): 0.9179861259130906\n"
     ]
    }
   ],
   "source": [
    "from sklearn.ensemble import RandomForestClassifier\n",
    "\n",
    "# Initialize the Random Forest Classifier\n",
    "model_rf = RandomForestClassifier(random_state=42)\n",
    "\n",
    "# Train the model on the training data\n",
    "model_rf.fit(X_train, y_train)\n",
    "\n",
    "# Make predictions on the test set\n",
    "y_pred_rf = model_rf.predict(X_test)\n",
    "\n",
    "# Calculate the F1-score for Random Forest Classifier\n",
    "f1_rf = f1_score(y_test, y_pred_rf, average='weighted')\n",
    "print(f\"F1-score (Random Forest): {f1_rf}\")\n"
   ]
  },
  {
   "cell_type": "code",
   "execution_count": 26,
   "id": "1a36a6cb",
   "metadata": {},
   "outputs": [
    {
     "name": "stdout",
     "output_type": "stream",
     "text": [
      "Best Parameters: {'max_depth': None, 'min_samples_leaf': 1, 'min_samples_split': 2, 'n_estimators': 300}\n",
      "Best F1-score: 0.9011032493189977\n"
     ]
    }
   ],
   "source": [
    "from sklearn.model_selection import GridSearchCV\n",
    "\n",
    "# Define the parameter grid\n",
    "param_grid = {\n",
    "    'n_estimators': [300,400,500],  # Number of trees in the forest\n",
    "    'max_depth': [None, 10, 20, 30],  # Maximum depth of the trees\n",
    "    'min_samples_split': [2, 5, 10],  # Minimum samples required to split a node\n",
    "    'min_samples_leaf': [1, 2, 4]  # Minimum number of samples required at each leaf node\n",
    "}\n",
    "\n",
    "# Initialize the Random Forest Classifier\n",
    "model_rf = RandomForestClassifier(random_state=42)\n",
    "\n",
    "# Perform grid search using cross-validation\n",
    "grid_search = GridSearchCV(estimator=model_rf, param_grid=param_grid, \n",
    "                           scoring='f1_weighted', cv=5, n_jobs=-1)\n",
    "\n",
    "# Fit the grid search to the data\n",
    "grid_search.fit(X_train, y_train)\n",
    "\n",
    "# Get the best parameters and the best F1-score\n",
    "best_params = grid_search.best_params_\n",
    "best_f1 = grid_search.best_score_\n",
    "\n",
    "print(\"Best Parameters:\", best_params)\n",
    "print(\"Best F1-score:\", best_f1)\n"
   ]
  },
  {
   "cell_type": "code",
   "execution_count": 18,
   "id": "d656b771",
   "metadata": {},
   "outputs": [
    {
     "name": "stdout",
     "output_type": "stream",
     "text": [
      "              precision    recall  f1-score   support\n",
      "\n",
      "         0.0       0.95      0.81      0.87      3366\n",
      "         1.0       0.98      1.00      0.99      3254\n",
      "         2.0       0.84      0.95      0.89      3192\n",
      "\n",
      "    accuracy                           0.92      9812\n",
      "   macro avg       0.92      0.92      0.92      9812\n",
      "weighted avg       0.92      0.92      0.92      9812\n",
      "\n"
     ]
    }
   ],
   "source": [
    "print(classification_report(y_test, y_pred_rf))\n"
   ]
  },
  {
   "cell_type": "code",
   "execution_count": 19,
   "id": "b3da3cf2",
   "metadata": {},
   "outputs": [],
   "source": [
    "#Copy below code for predictions"
   ]
  },
  {
   "cell_type": "code",
   "execution_count": 20,
   "id": "656ebd17",
   "metadata": {},
   "outputs": [
    {
     "data": {
      "text/html": [
       "<style>#sk-container-id-1 {color: black;background-color: white;}#sk-container-id-1 pre{padding: 0;}#sk-container-id-1 div.sk-toggleable {background-color: white;}#sk-container-id-1 label.sk-toggleable__label {cursor: pointer;display: block;width: 100%;margin-bottom: 0;padding: 0.3em;box-sizing: border-box;text-align: center;}#sk-container-id-1 label.sk-toggleable__label-arrow:before {content: \"▸\";float: left;margin-right: 0.25em;color: #696969;}#sk-container-id-1 label.sk-toggleable__label-arrow:hover:before {color: black;}#sk-container-id-1 div.sk-estimator:hover label.sk-toggleable__label-arrow:before {color: black;}#sk-container-id-1 div.sk-toggleable__content {max-height: 0;max-width: 0;overflow: hidden;text-align: left;background-color: #f0f8ff;}#sk-container-id-1 div.sk-toggleable__content pre {margin: 0.2em;color: black;border-radius: 0.25em;background-color: #f0f8ff;}#sk-container-id-1 input.sk-toggleable__control:checked~div.sk-toggleable__content {max-height: 200px;max-width: 100%;overflow: auto;}#sk-container-id-1 input.sk-toggleable__control:checked~label.sk-toggleable__label-arrow:before {content: \"▾\";}#sk-container-id-1 div.sk-estimator input.sk-toggleable__control:checked~label.sk-toggleable__label {background-color: #d4ebff;}#sk-container-id-1 div.sk-label input.sk-toggleable__control:checked~label.sk-toggleable__label {background-color: #d4ebff;}#sk-container-id-1 input.sk-hidden--visually {border: 0;clip: rect(1px 1px 1px 1px);clip: rect(1px, 1px, 1px, 1px);height: 1px;margin: -1px;overflow: hidden;padding: 0;position: absolute;width: 1px;}#sk-container-id-1 div.sk-estimator {font-family: monospace;background-color: #f0f8ff;border: 1px dotted black;border-radius: 0.25em;box-sizing: border-box;margin-bottom: 0.5em;}#sk-container-id-1 div.sk-estimator:hover {background-color: #d4ebff;}#sk-container-id-1 div.sk-parallel-item::after {content: \"\";width: 100%;border-bottom: 1px solid gray;flex-grow: 1;}#sk-container-id-1 div.sk-label:hover label.sk-toggleable__label {background-color: #d4ebff;}#sk-container-id-1 div.sk-serial::before {content: \"\";position: absolute;border-left: 1px solid gray;box-sizing: border-box;top: 0;bottom: 0;left: 50%;z-index: 0;}#sk-container-id-1 div.sk-serial {display: flex;flex-direction: column;align-items: center;background-color: white;padding-right: 0.2em;padding-left: 0.2em;position: relative;}#sk-container-id-1 div.sk-item {position: relative;z-index: 1;}#sk-container-id-1 div.sk-parallel {display: flex;align-items: stretch;justify-content: center;background-color: white;position: relative;}#sk-container-id-1 div.sk-item::before, #sk-container-id-1 div.sk-parallel-item::before {content: \"\";position: absolute;border-left: 1px solid gray;box-sizing: border-box;top: 0;bottom: 0;left: 50%;z-index: -1;}#sk-container-id-1 div.sk-parallel-item {display: flex;flex-direction: column;z-index: 1;position: relative;background-color: white;}#sk-container-id-1 div.sk-parallel-item:first-child::after {align-self: flex-end;width: 50%;}#sk-container-id-1 div.sk-parallel-item:last-child::after {align-self: flex-start;width: 50%;}#sk-container-id-1 div.sk-parallel-item:only-child::after {width: 0;}#sk-container-id-1 div.sk-dashed-wrapped {border: 1px dashed gray;margin: 0 0.4em 0.5em 0.4em;box-sizing: border-box;padding-bottom: 0.4em;background-color: white;}#sk-container-id-1 div.sk-label label {font-family: monospace;font-weight: bold;display: inline-block;line-height: 1.2em;}#sk-container-id-1 div.sk-label-container {text-align: center;}#sk-container-id-1 div.sk-container {/* jupyter's `normalize.less` sets `[hidden] { display: none; }` but bootstrap.min.css set `[hidden] { display: none !important; }` so we also need the `!important` here to be able to override the default hidden behavior on the sphinx rendered scikit-learn.org. See: https://github.com/scikit-learn/scikit-learn/issues/21755 */display: inline-block !important;position: relative;}#sk-container-id-1 div.sk-text-repr-fallback {display: none;}</style><div id=\"sk-container-id-1\" class=\"sk-top-container\"><div class=\"sk-text-repr-fallback\"><pre>RandomForestClassifier(n_estimators=300, random_state=42)</pre><b>In a Jupyter environment, please rerun this cell to show the HTML representation or trust the notebook. <br />On GitHub, the HTML representation is unable to render, please try loading this page with nbviewer.org.</b></div><div class=\"sk-container\" hidden><div class=\"sk-item\"><div class=\"sk-estimator sk-toggleable\"><input class=\"sk-toggleable__control sk-hidden--visually\" id=\"sk-estimator-id-1\" type=\"checkbox\" checked><label for=\"sk-estimator-id-1\" class=\"sk-toggleable__label sk-toggleable__label-arrow\">RandomForestClassifier</label><div class=\"sk-toggleable__content\"><pre>RandomForestClassifier(n_estimators=300, random_state=42)</pre></div></div></div></div></div>"
      ],
      "text/plain": [
       "RandomForestClassifier(n_estimators=300, random_state=42)"
      ]
     },
     "execution_count": 20,
     "metadata": {},
     "output_type": "execute_result"
    }
   ],
   "source": [
    "# Initialize the Random Forest Classifier with the best parameters\n",
    "best_params = {'max_depth': None, 'min_samples_split': 2, 'n_estimators': 300}\n",
    "best_clf = RandomForestClassifier(**best_params, random_state=42)\n",
    "\n",
    "# Train the classifier on the entire dataset (X_resampled, y_resampled)\n",
    "best_clf.fit(X_ros, y_ros)\n"
   ]
  },
  {
   "cell_type": "code",
   "execution_count": null,
   "id": "6babce44",
   "metadata": {},
   "outputs": [],
   "source": [
    "Hold=pd.read_csv(\"holdout.csv\")\n",
    "Hold[columns_to_replace] = Hold[columns_to_replace].replace({'Yes': 1, 'No': 0})\n",
    "Hold['Sex'] = Hold['Sex'].replace({'Male': 1, 'Female': 0})\n",
    "Hold[columns_to_scale] = scaler.fit_transform(Hold[columns_to_scale])"
   ]
  },
  {
   "cell_type": "code",
   "execution_count": null,
   "id": "2a4fa216",
   "metadata": {},
   "outputs": [],
   "source": [
    "predictions_df = best_clf.predict(Hold)\n",
    "predictions = pd.DataFrame(predictions_df, columns=['Predicted_Target'])\n",
    "# Save the predictions DataFrame to a CSV file\n",
    "predictions.to_csv('predictions.csv', index=False, header=['predictions'])\n"
   ]
  }
 ],
 "metadata": {
  "kernelspec": {
   "display_name": "Python 3 (ipykernel)",
   "language": "python",
   "name": "python3"
  },
  "language_info": {
   "codemirror_mode": {
    "name": "ipython",
    "version": 3
   },
   "file_extension": ".py",
   "mimetype": "text/x-python",
   "name": "python",
   "nbconvert_exporter": "python",
   "pygments_lexer": "ipython3",
   "version": "3.9.12"
  }
 },
 "nbformat": 4,
 "nbformat_minor": 5
}
